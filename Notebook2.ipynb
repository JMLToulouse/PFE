{
 "cells": [
  {
   "cell_type": "markdown",
   "metadata": {},
   "source": [
    "# Application du package Ethik sur le jeu de données de Ribeiro"
   ]
  },
  {
   "cell_type": "markdown",
   "metadata": {},
   "source": [
    "## 1 - Ethik : C'est quoi ?"
   ]
  },
  {
   "cell_type": "markdown",
   "metadata": {},
   "source": [
    "Ethik est un package Python qui a pour but d'expliquer les règles de décision entraînées et pour s'assurer qu'elles sont équitables. \n",
    "\n",
    "L'idée principale est de mettre l'accent ou faire varier une ou plusieurs variables d'un ensemble de test et d'observer par la suite comment le modèle d'apprentissage automatique entraîné réagit face à cette variation.\n",
    "\n",
    "La contrainte est basée sur un schéma de repondération statistique appelé projection de variable entropique. L'avantage principal de cette méthode c'est qu'elle ne va prendre en compte que des scénarios réalistes et qu'elle ne va pas construire de faux exemples. \n",
    "\n",
    "Ethik reste également applicable aux jeux de données assez grand et peut être utilisé pour :\n",
    "![alt text](ethic.png \"Base de données\")\n",
    "\n",
    "Grâce à Ethik on peut :\n",
    " \n",
    "* Tracer la sortie moyenne d’un modèle par rapport à la valeur moyenne d’une caractéristique.\n",
    "* Tracer simultanément l’influence de plusieurs caractéristiques sur le modèle (la sortie moyenne du modèle par rapport à la valeur moyenne de chaque caractéristiques).\n",
    "* Classer les features en fonction de leur influence/importance sur le modèle.\n",
    "* Comparer deux individus par rapport aux features. \n",
    "* Visualiser la performance du modèle par rapport à la valeur moyenne du feature.\n",
    "* Visualiser l’influence du pixel sur la sortie pour les images. \n"
   ]
  },
  {
   "cell_type": "markdown",
   "metadata": {},
   "source": [
    "## 2 - Ethik : Comment ça marche ?"
   ]
  },
  {
   "cell_type": "markdown",
   "metadata": {},
   "source": [
    "Ethik nous permet d'explorer l'impact de chaque features sur le comportement du modèle, que ce soit sa prédiction ou ses performances.\n",
    "\n",
    "Afin de bien comprendre comment on peut utiliser le package et comment cela marche, on peut voir la partie \"How it works\" sur le site internet suivant : https://xai-aniti.github.io/ethik/tutorials/how-it-works "
   ]
  },
  {
   "cell_type": "markdown",
   "metadata": {},
   "source": [
    "## 3 - Ethik : Exemples "
   ]
  },
  {
   "cell_type": "markdown",
   "metadata": {},
   "source": [
    "On peut trouver plusieurs exemples dans la rubrique \"Tutorials\" du site internet : https://xai-aniti.github.io/ethik/tutorials/"
   ]
  },
  {
   "cell_type": "markdown",
   "metadata": {},
   "source": [
    "## 4 - Application d'Ethik sur un nouveau dataset :"
   ]
  },
  {
   "cell_type": "code",
   "execution_count": null,
   "metadata": {},
   "outputs": [],
   "source": []
  }
 ],
 "metadata": {
  "kernelspec": {
   "display_name": "Python 3",
   "language": "python",
   "name": "python3"
  },
  "language_info": {
   "codemirror_mode": {
    "name": "ipython",
    "version": 3
   },
   "file_extension": ".py",
   "mimetype": "text/x-python",
   "name": "python",
   "nbconvert_exporter": "python",
   "pygments_lexer": "ipython3",
   "version": "3.7.6"
  }
 },
 "nbformat": 4,
 "nbformat_minor": 4
}
